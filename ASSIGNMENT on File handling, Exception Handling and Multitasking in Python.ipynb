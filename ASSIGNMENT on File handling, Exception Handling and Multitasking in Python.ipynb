{
 "cells": [
  {
   "cell_type": "markdown",
   "id": "928e7c05-8f90-457d-a56d-047d620571c6",
   "metadata": {},
   "source": [
    " # ASSIGNMENT on File handling, Exception Handling and Multitasking in Python"
   ]
  },
  {
   "cell_type": "code",
   "execution_count": 33,
   "id": "ae490058-d748-4545-a1ed-2b9df07f94a6",
   "metadata": {},
   "outputs": [
    {
     "name": "stdout",
     "output_type": "stream",
     "text": [
      "Hey, I am Ayush Pandey\n",
      "I am learning Data Science.\n"
     ]
    }
   ],
   "source": [
    "# 1. Write a code to read the contents of a file in Python.\n",
    "\n",
    "file = open(\"file.txt\", \"r\")\n",
    "file.seek(0)\n",
    "print(file.read())\n",
    "file.close()"
   ]
  },
  {
   "cell_type": "code",
   "execution_count": 31,
   "id": "58029a86-b96b-4241-b8d2-353fe01f41f9",
   "metadata": {},
   "outputs": [],
   "source": [
    "# 2. Write a code to write to a file in Python.\n",
    "\n",
    "file = open(\"file.txt\", \"w\")\n",
    "file.write(\"Hey, I am Ayush Pandey\\n\")\n",
    "file.close()"
   ]
  },
  {
   "cell_type": "code",
   "execution_count": 32,
   "id": "c045d7ea-757e-4647-90ed-d2b704e36b40",
   "metadata": {},
   "outputs": [],
   "source": [
    "# 3. Write a code to append to a file in Python.\n",
    "\n",
    "file = open(\"file.txt\", \"a\")\n",
    "file.write(\"I am learning Data Science.\")\n",
    "file.close()"
   ]
  },
  {
   "cell_type": "code",
   "execution_count": 2,
   "id": "d47dd7ea-af12-471b-afac-7b54c4ae3fd2",
   "metadata": {},
   "outputs": [],
   "source": [
    "# 4. Write a code to read a binary file in Python.\n",
    "\n",
    "with open(\"test_bin.bin\", \"wb\") as f:\n",
    "    f.write(b\"\\x48\\x65\\x6c\\x6c\\x6f\\x2c\\x20\\x57\\x6f\\x72\\x6c\\x64\\x21\")"
   ]
  },
  {
   "cell_type": "code",
   "execution_count": 3,
   "id": "f9378e70-740f-4a85-8d3d-07a8b1bfabcb",
   "metadata": {},
   "outputs": [
    {
     "name": "stdout",
     "output_type": "stream",
     "text": [
      "b'Hello, World!'\n"
     ]
    }
   ],
   "source": [
    "with open(\"test_bin.bin\", \"rb\") as f:\n",
    "    print(f.read())"
   ]
  },
  {
   "cell_type": "markdown",
   "id": "c9433236-4d8d-405e-83c1-8dfc5066ac1d",
   "metadata": {},
   "source": [
    "# 5. What happens if we don't use 'with' keyword with 'open' in python?\n",
    "\n",
    "In Python, the open function is used to open a file, and it returns a file object. The with keyword is often used with open to ensure that the file is properly closed.\n",
    "If you don't use with, you need to manually close the file using the close method. If you forget to close the file, it can lead to several issues such as running out of file handles (since the file remains open), data not being written to the file properly."
   ]
  },
  {
   "cell_type": "markdown",
   "id": "ac6e2093-64dc-400c-8f6c-4c515c9cfaa7",
   "metadata": {},
   "source": [
    "# 6. Explain the concept of buffering in file handling and how it helps in improving read and write operations.\n",
    "\n",
    "Buffering in file handling refers to the temporary storage of data in a memory area called a buffer while it is being transferred between a program and a file or between different parts of a program. This concept is crucial in improving the efficiency and performance of read and write operations.\n",
    "\n",
    "Read Operations:\n",
    "\n",
    "Without Buffering: Each read operation directly accesses the file on disk, which can be slow due to the time it takes to move the disk’s read/write head (seek time) and the actual data transfer rate (latency).\n",
    "With Buffering: When a read request is made, the system reads a larger chunk of data from the file into the buffer. Subsequent read operations can then be satisfied directly from the buffer, which is much faster than repeatedly accessing the disk\n",
    "\n",
    "Write Operations:\n",
    "\n",
    "Without Buffering: Each write operation directly writes data to the disk, which involves similar delays due to seek time and latency.\n",
    "With Buffering: Data to be written is first stored in a buffer. When the buffer is full or when the file is closed, the data is written to the disk in larger, more efficient chunks.\n"
   ]
  },
  {
   "cell_type": "code",
   "execution_count": 12,
   "id": "8f9e0063-57a5-458f-ac56-357bd3c1ee0d",
   "metadata": {},
   "outputs": [],
   "source": [
    "# 7. Describe the steps involved in implementing buffered file handling in a programming language of your choice.\n",
    "import io\n",
    "with open(\"test_buf.txt\", \"wb\") as f:\n",
    "    file = io.BufferedWriter(f)\n",
    "    file.write(b\"Welcome to My Kingdom.\\n\")\n",
    "    file.write(b\"Well as you all know me.\\n\")\n",
    "    file.write(b\"I am Ayush Pandey.\\n\")\n",
    "    file.flush()"
   ]
  },
  {
   "cell_type": "code",
   "execution_count": 13,
   "id": "77bf20a0-48ca-42a1-bca8-3f93cc0bec80",
   "metadata": {},
   "outputs": [
    {
     "name": "stdout",
     "output_type": "stream",
     "text": [
      "b'Welcome to My Kingdom.\\nWell as you all know me.\\nI am Ayush Pandey.\\n'\n"
     ]
    }
   ],
   "source": [
    "# 8. Write a Python function to read a text file using buffered reading and return its contents.\n",
    "\n",
    "with open(\"test_buf.txt\", \"rb\") as f:\n",
    "    file = io.BufferedReader(f)\n",
    "    data = file.read(100) #100 bytes\n",
    "    print(data)"
   ]
  },
  {
   "cell_type": "markdown",
   "id": "dfda92e2-e5fa-45a7-a50d-f7501ed3e1b3",
   "metadata": {},
   "source": [
    "# 9. What are the advantages of using buffered reading over direct file reading in Python?\n",
    "\n",
    "Buffered reading in Python, as opposed to direct file reading, offers several advantages that enhance performance and efficiency. Here are the key benefits:\n",
    "\n",
    "1. Improved Performance\n",
    "Buffered reading can significantly improve I/O performance. When you read data directly from a file, each read operation involves a system call to the operating system, which can be slow and resource-intensive. Buffered reading reduces the number of system calls by reading larger chunks of data into memory at once and then serving it to your program from this buffer. This can make the overall process faster, especially for large files or frequent read operations.\n",
    "\n",
    "2. Reduced Disk I/O\n",
    "By reading larger chunks of data at once, buffered reading minimizes the number of accesses to the disk. Disk operations are much slower compared to memory operations, so reducing the number of times data is read from the disk can lead to significant performance gains.\n",
    "\n",
    "3. Efficiency in Reading Large Files\n",
    "When dealing with large files, buffered reading allows you to manage memory usage more efficiently. Instead of loading the entire file into memory (which might not even be possible for very large files), buffering reads manageable chunks into memory, making it possible to process files that would otherwise be too large to handle.\n",
    "\n",
    "4. Better Handling of Network Streams\n",
    "Buffered reading is particularly advantageous when reading from network streams. Network I/O can be slow and unpredictable, so buffering can help smooth out the inconsistencies by reading larger blocks of data when available and serving them to the application as needed.\n",
    "\n",
    "5. Convenience and Ease of Use\n",
    "Buffered reading provides convenient methods for handling common tasks such as reading lines or fixed-size blocks of data. This can simplify your code, making it easier to write and maintain. For example, the io.BufferedReader class in Python provides methods like readline() which can be more convenient and efficient than implementing similar functionality yourself.\n",
    "\n",
    "6. Reduced Latency\n",
    "When reading data interactively (e.g., reading input from a user or a real-time data stream), buffering can reduce the latency of the read operations by pre-fetching data into memory, allowing your application to access it more quickly when needed"
   ]
  },
  {
   "cell_type": "code",
   "execution_count": 16,
   "id": "4472a423-a449-40e9-968b-11dde718da64",
   "metadata": {},
   "outputs": [],
   "source": [
    "# 10. Write a Python code snippet to append content to a file using buffered writing.\n",
    "\n",
    "import io\n",
    "\n",
    "file_path = \"test_buf.txt\"\n",
    "content_to_append = 'This is the content to append.\\n'\n",
    "\n",
    "with open(file_path, 'ab') as file:\n",
    "    buffered_writer = io.BufferedWriter(file)\n",
    "    buffered_writer.write(content_to_append.encode('utf-8'))\n",
    "    buffered_writer.flush()"
   ]
  },
  {
   "cell_type": "code",
   "execution_count": 17,
   "id": "1e85f1bf-e27a-4418-a929-069826e80f83",
   "metadata": {},
   "outputs": [
    {
     "name": "stdout",
     "output_type": "stream",
     "text": [
      "The file 'example.txt' is successfully closed.\n"
     ]
    }
   ],
   "source": [
    "# 11. Write a Python function that demonstrates the use of close() method on a file.\n",
    "\n",
    "def demonstrate_file_close():\n",
    "    file_name = 'example.txt'\n",
    "    file = open(file_name, 'w')\n",
    "    file.write(\"Hello, I have completed my graduation in science from University of Delhi.\")\n",
    "    file.close()\n",
    "    \n",
    "    if file.closed:\n",
    "        print(f\"The file '{file_name}' is successfully closed.\")\n",
    "    else:\n",
    "        print(f\"The file '{file_name}' is still open.\")\n",
    "demonstrate_file_close()"
   ]
  },
  {
   "cell_type": "code",
   "execution_count": 2,
   "id": "5b9fb034-a090-46a3-80aa-89e4db726033",
   "metadata": {},
   "outputs": [
    {
     "name": "stdout",
     "output_type": "stream",
     "text": [
      "Data read from file: Hello, I have completed my graduation in science from University of Delhi.\n",
      "File descriptor detached successfully.\n",
      "File descriptor closed.\n",
      "An error occurred: underlying buffer has been detached\n"
     ]
    }
   ],
   "source": [
    "# 12. Create a Python function to showcase the detach() method on a file object.\n",
    "\n",
    "def detach_file(file_path):\n",
    "    try:\n",
    "        with open(file_path, 'r') as file:\n",
    "            data = file.read()\n",
    "            print(\"Data read from file:\", data)\n",
    "\n",
    "            fd = file.detach()\n",
    "            print(\"File descriptor detached successfully.\")\n",
    "\n",
    "            fd.close()\n",
    "            print(\"File descriptor closed.\")\n",
    "    except FileNotFoundError:\n",
    "        print(\"File not found:\", file_path)\n",
    "    except Exception as e:\n",
    "        print(\"An error occurred:\", str(e))\n",
    "\n",
    "detach_file(\"example.txt\")\n"
   ]
  },
  {
   "cell_type": "code",
   "execution_count": 35,
   "id": "06f6a02d-eaf6-47dd-a293-43291832c289",
   "metadata": {},
   "outputs": [
    {
     "name": "stdout",
     "output_type": "stream",
     "text": [
      "Hey, I am Ayush Pandey\n",
      "I am learning Data Science.\n"
     ]
    }
   ],
   "source": [
    "# 13. Write a Python function to demonstrate the use of the seek() method to change the file position.\n",
    "\n",
    "file = open(\"file.txt\", 'r')\n",
    "file.seek(0)\n",
    "print(file.read())\n",
    "file.close()"
   ]
  },
  {
   "cell_type": "code",
   "execution_count": 36,
   "id": "357bb377-dc29-46b3-9fac-8499e3f217d7",
   "metadata": {},
   "outputs": [
    {
     "name": "stdout",
     "output_type": "stream",
     "text": [
      "yush Pandey\n",
      "I am learning Data Science.\n"
     ]
    }
   ],
   "source": [
    "file = open(\"file.txt\", 'r')\n",
    "file.seek(11)\n",
    "print(file.read())\n",
    "file.close()"
   ]
  },
  {
   "cell_type": "code",
   "execution_count": 2,
   "id": "5f68bbc9-e6c9-4c33-9458-88ba1c80e649",
   "metadata": {},
   "outputs": [
    {
     "name": "stdout",
     "output_type": "stream",
     "text": [
      "File descriptor: 63\n"
     ]
    }
   ],
   "source": [
    "# 14. Create a Python function to return the file descriptor (integer number) of a file using the fileno() method.\n",
    "\n",
    "def get_file_descriptor(file_path):\n",
    "    try:\n",
    "        with open(file_path, 'r') as file:\n",
    "            fd = file.fileno()\n",
    "            return fd\n",
    "    except Exception as e:\n",
    "        return str(e)\n",
    "\n",
    "file_path = 'example.txt'\n",
    "fd = get_file_descriptor(file_path)\n",
    "print(f\"File descriptor: {fd}\")"
   ]
  },
  {
   "cell_type": "code",
   "execution_count": 2,
   "id": "ff52dfcc-45ec-413b-925e-853562794d1f",
   "metadata": {},
   "outputs": [
    {
     "name": "stdout",
     "output_type": "stream",
     "text": [
      "10\n"
     ]
    }
   ],
   "source": [
    "# 15. Write a Python function to return the current position of the file's object using the tell() method.\n",
    "\n",
    "def get_file_position(file_path, read_bytes=None):\n",
    "    try:\n",
    "        with open(file_path, 'rb') as file:\n",
    "            if read_bytes:\n",
    "                file.read(read_bytes)\n",
    "            position = file.tell()\n",
    "            return position\n",
    "    except Exception as e:\n",
    "        print(f\"An error occurred: {e}\")\n",
    "        return None\n",
    "\n",
    "file_path = 'example.txt'\n",
    "print(get_file_position(file_path, read_bytes=10))"
   ]
  },
  {
   "cell_type": "code",
   "execution_count": 3,
   "id": "e47ad3cb-3bf4-4217-9c32-f23c313dfdd3",
   "metadata": {},
   "outputs": [
    {
     "data": {
      "text/plain": [
       "<function logging.shutdown(handlerList=[<weakref at 0x7f2eb8a8f240; to 'StreamHandler' at 0x7f2eb8abc220>, <weakref at 0x7f2eb8ac2d40; to 'StreamHandler' at 0x7f2eba976e30>, <weakref at 0x7f2eb8b1f2e0; to 'FileHandler' at 0x7f2eb8b38fd0>])>"
      ]
     },
     "execution_count": 3,
     "metadata": {},
     "output_type": "execute_result"
    }
   ],
   "source": [
    "# 16. Create a Python program that logs a message to a file using the logging module.\n",
    "\n",
    "import logging\n",
    "logging.basicConfig(filename = \"test_new.log\", level=logging.DEBUG, format='%(asctime)s - %(levelname)s - %(message)s')\n",
    "logging.debug('This is for debug message')\n",
    "logging.info('This is for info message')\n",
    "logging.warning('This is for warning message')\n",
    "logging.error('This is for error message')\n",
    "logging.critical('This is for critical message')\n",
    "logging.shutdown"
   ]
  },
  {
   "cell_type": "markdown",
   "id": "91a0fa8e-c8fe-497f-a103-72cf63dcb394",
   "metadata": {},
   "source": [
    "# 17. Explain the importance of logging levels in Python's logging module.\n",
    "\n",
    "The logging module in Python is a powerful tool for tracking events that happen during the execution of a program. It provides a way to configure different levels of logging, each with its specific purpose and use case. Understanding and using these logging levels effectively is crucial for developing robust and maintainable applications\n",
    "\n",
    "DEBUG: Detailed diagnostic information.\n",
    "INFO: Confirmation that things are working as expected.\n",
    "WARNING: An indication that something unexpected happened, but the software is still functioning.\n",
    "ERROR: A serious issue that has prevented some part of the software from functioning.\n",
    "CRITICAL: A severe error indicating that the program itself may be unable to continue running."
   ]
  },
  {
   "cell_type": "code",
   "execution_count": 1,
   "id": "33fe9927-0e9a-4807-9c52-cfbc1ee579ad",
   "metadata": {},
   "outputs": [
    {
     "name": "stdout",
     "output_type": "stream",
     "text": [
      "--Return--\n",
      "None\n",
      "> \u001b[0;32m/tmp/ipykernel_84/1510405692.py\u001b[0m(13)\u001b[0;36m<module>\u001b[0;34m()\u001b[0m\n",
      "\u001b[0;32m     10 \u001b[0;31m\u001b[0;34m\u001b[0m\u001b[0m\n",
      "\u001b[0m\u001b[0;32m     11 \u001b[0;31m\u001b[0;34m\u001b[0m\u001b[0m\n",
      "\u001b[0m\u001b[0;32m     12 \u001b[0;31m\u001b[0;31m# starting point to debug\u001b[0m\u001b[0;34m\u001b[0m\u001b[0;34m\u001b[0m\u001b[0m\n",
      "\u001b[0m\u001b[0;32m---> 13 \u001b[0;31m\u001b[0mpdb\u001b[0m\u001b[0;34m.\u001b[0m\u001b[0mset_trace\u001b[0m\u001b[0;34m(\u001b[0m\u001b[0;34m)\u001b[0m\u001b[0;34m\u001b[0m\u001b[0;34m\u001b[0m\u001b[0m\n",
      "\u001b[0m\u001b[0;32m     14 \u001b[0;31m\u001b[0mfxn\u001b[0m\u001b[0;34m(\u001b[0m\u001b[0;36m5\u001b[0m\u001b[0;34m)\u001b[0m\u001b[0;34m\u001b[0m\u001b[0;34m\u001b[0m\u001b[0m\n",
      "\u001b[0m\n"
     ]
    },
    {
     "name": "stdin",
     "output_type": "stream",
     "text": [
      "ipdb>  c\n"
     ]
    },
    {
     "name": "stdout",
     "output_type": "stream",
     "text": [
      "Hello!  1\n",
      "Hello!  2\n",
      "Hello!  3\n",
      "Hello!  4\n",
      "Hello!  5\n"
     ]
    }
   ],
   "source": [
    "# 18. Create a Python program that uses the debuggeer to find the value of a variable inside a loop.\n",
    "\n",
    "# importing pdb \n",
    "import pdb \n",
    "\n",
    "# make a simple function to debug \n",
    "def fxn(n): \n",
    "\tfor i in range(n): \n",
    "\t\tprint(\"Hello! \", i+1) \n",
    "\n",
    "\n",
    "# starting point to debug \n",
    "pdb.set_trace() \n",
    "fxn(5) \n"
   ]
  },
  {
   "cell_type": "code",
   "execution_count": 2,
   "id": "979e5054-22c6-4b2e-9ab6-7e95995d88a3",
   "metadata": {},
   "outputs": [
    {
     "name": "stdout",
     "output_type": "stream",
     "text": [
      "Hello!  1\n",
      "Hello!  2\n",
      "Hello!  3\n",
      "Hello!  4\n",
      "Hello!  5\n"
     ]
    }
   ],
   "source": [
    "# 19. Create a Python program that demonstrates setting breakpoints and inspecting variables using the debugger.\n",
    "\n",
    "# a simple function \n",
    "def fxn(n): \n",
    "\tfor i in range(n): \n",
    "\t\tprint(\"Hello! \", i+1) \n",
    "\n",
    "\n",
    "# using breakpoint \n",
    "breakpoint() \n",
    "fxn(5) "
   ]
  },
  {
   "cell_type": "code",
   "execution_count": 8,
   "id": "4e760447-8eaa-462e-b5f5-b9582b7eab40",
   "metadata": {},
   "outputs": [
    {
     "name": "stdout",
     "output_type": "stream",
     "text": [
      "> \u001b[0;32m/tmp/ipykernel_77/2494400813.py\u001b[0m(9)\u001b[0;36mfactorial\u001b[0;34m()\u001b[0m\n",
      "\u001b[0;32m      7 \u001b[0;31m    \u001b[0mpdb\u001b[0m\u001b[0;34m.\u001b[0m\u001b[0mset_trace\u001b[0m\u001b[0;34m(\u001b[0m\u001b[0;34m)\u001b[0m\u001b[0;34m\u001b[0m\u001b[0;34m\u001b[0m\u001b[0m\n",
      "\u001b[0m\u001b[0;32m      8 \u001b[0;31m\u001b[0;34m\u001b[0m\u001b[0m\n",
      "\u001b[0m\u001b[0;32m----> 9 \u001b[0;31m    \u001b[0;32mif\u001b[0m \u001b[0mn\u001b[0m \u001b[0;34m==\u001b[0m \u001b[0;36m0\u001b[0m\u001b[0;34m:\u001b[0m\u001b[0;34m\u001b[0m\u001b[0;34m\u001b[0m\u001b[0m\n",
      "\u001b[0m\u001b[0;32m     10 \u001b[0;31m        \u001b[0;32mreturn\u001b[0m \u001b[0;36m1\u001b[0m\u001b[0;34m\u001b[0m\u001b[0;34m\u001b[0m\u001b[0m\n",
      "\u001b[0m\u001b[0;32m     11 \u001b[0;31m    \u001b[0;32melse\u001b[0m\u001b[0;34m:\u001b[0m\u001b[0;34m\u001b[0m\u001b[0;34m\u001b[0m\u001b[0m\n",
      "\u001b[0m\n"
     ]
    },
    {
     "name": "stdin",
     "output_type": "stream",
     "text": [
      "ipdb>  n\n"
     ]
    },
    {
     "name": "stdout",
     "output_type": "stream",
     "text": [
      "> \u001b[0;32m/tmp/ipykernel_77/2494400813.py\u001b[0m(12)\u001b[0;36mfactorial\u001b[0;34m()\u001b[0m\n",
      "\u001b[0;32m     10 \u001b[0;31m        \u001b[0;32mreturn\u001b[0m \u001b[0;36m1\u001b[0m\u001b[0;34m\u001b[0m\u001b[0;34m\u001b[0m\u001b[0m\n",
      "\u001b[0m\u001b[0;32m     11 \u001b[0;31m    \u001b[0;32melse\u001b[0m\u001b[0;34m:\u001b[0m\u001b[0;34m\u001b[0m\u001b[0;34m\u001b[0m\u001b[0m\n",
      "\u001b[0m\u001b[0;32m---> 12 \u001b[0;31m        \u001b[0;32mreturn\u001b[0m \u001b[0mn\u001b[0m \u001b[0;34m*\u001b[0m \u001b[0mfactorial\u001b[0m\u001b[0;34m(\u001b[0m\u001b[0mn\u001b[0m \u001b[0;34m-\u001b[0m \u001b[0;36m1\u001b[0m\u001b[0;34m)\u001b[0m\u001b[0;34m\u001b[0m\u001b[0;34m\u001b[0m\u001b[0m\n",
      "\u001b[0m\u001b[0;32m     13 \u001b[0;31m\u001b[0;34m\u001b[0m\u001b[0m\n",
      "\u001b[0m\u001b[0;32m     14 \u001b[0;31m\u001b[0;32mif\u001b[0m \u001b[0m__name__\u001b[0m \u001b[0;34m==\u001b[0m \u001b[0;34m\"__main__\"\u001b[0m\u001b[0;34m:\u001b[0m\u001b[0;34m\u001b[0m\u001b[0;34m\u001b[0m\u001b[0m\n",
      "\u001b[0m\n"
     ]
    },
    {
     "name": "stdin",
     "output_type": "stream",
     "text": [
      "ipdb>  s\n"
     ]
    },
    {
     "name": "stdout",
     "output_type": "stream",
     "text": [
      "--Call--\n",
      "> \u001b[0;32m/tmp/ipykernel_77/2494400813.py\u001b[0m(5)\u001b[0;36mfactorial\u001b[0;34m()\u001b[0m\n",
      "\u001b[0;32m      3 \u001b[0;31m\u001b[0;32mimport\u001b[0m \u001b[0mpdb\u001b[0m\u001b[0;34m\u001b[0m\u001b[0;34m\u001b[0m\u001b[0m\n",
      "\u001b[0m\u001b[0;32m      4 \u001b[0;31m\u001b[0;34m\u001b[0m\u001b[0m\n",
      "\u001b[0m\u001b[0;32m----> 5 \u001b[0;31m\u001b[0;32mdef\u001b[0m \u001b[0mfactorial\u001b[0m\u001b[0;34m(\u001b[0m\u001b[0mn\u001b[0m\u001b[0;34m)\u001b[0m\u001b[0;34m:\u001b[0m\u001b[0;34m\u001b[0m\u001b[0;34m\u001b[0m\u001b[0m\n",
      "\u001b[0m\u001b[0;32m      6 \u001b[0;31m\u001b[0;34m\u001b[0m\u001b[0m\n",
      "\u001b[0m\u001b[0;32m      7 \u001b[0;31m    \u001b[0mpdb\u001b[0m\u001b[0;34m.\u001b[0m\u001b[0mset_trace\u001b[0m\u001b[0;34m(\u001b[0m\u001b[0;34m)\u001b[0m\u001b[0;34m\u001b[0m\u001b[0;34m\u001b[0m\u001b[0m\n",
      "\u001b[0m\n"
     ]
    },
    {
     "name": "stdin",
     "output_type": "stream",
     "text": [
      "ipdb>  n\n"
     ]
    },
    {
     "name": "stdout",
     "output_type": "stream",
     "text": [
      "> \u001b[0;32m/tmp/ipykernel_77/2494400813.py\u001b[0m(7)\u001b[0;36mfactorial\u001b[0;34m()\u001b[0m\n",
      "\u001b[0;32m      5 \u001b[0;31m\u001b[0;32mdef\u001b[0m \u001b[0mfactorial\u001b[0m\u001b[0;34m(\u001b[0m\u001b[0mn\u001b[0m\u001b[0;34m)\u001b[0m\u001b[0;34m:\u001b[0m\u001b[0;34m\u001b[0m\u001b[0;34m\u001b[0m\u001b[0m\n",
      "\u001b[0m\u001b[0;32m      6 \u001b[0;31m\u001b[0;34m\u001b[0m\u001b[0m\n",
      "\u001b[0m\u001b[0;32m----> 7 \u001b[0;31m    \u001b[0mpdb\u001b[0m\u001b[0;34m.\u001b[0m\u001b[0mset_trace\u001b[0m\u001b[0;34m(\u001b[0m\u001b[0;34m)\u001b[0m\u001b[0;34m\u001b[0m\u001b[0;34m\u001b[0m\u001b[0m\n",
      "\u001b[0m\u001b[0;32m      8 \u001b[0;31m\u001b[0;34m\u001b[0m\u001b[0m\n",
      "\u001b[0m\u001b[0;32m      9 \u001b[0;31m    \u001b[0;32mif\u001b[0m \u001b[0mn\u001b[0m \u001b[0;34m==\u001b[0m \u001b[0;36m0\u001b[0m\u001b[0;34m:\u001b[0m\u001b[0;34m\u001b[0m\u001b[0;34m\u001b[0m\u001b[0m\n",
      "\u001b[0m\n"
     ]
    },
    {
     "name": "stdin",
     "output_type": "stream",
     "text": [
      "ipdb>  s\n"
     ]
    },
    {
     "name": "stdout",
     "output_type": "stream",
     "text": [
      "--Call--\n",
      "> \u001b[0;32m/opt/conda/lib/python3.10/site-packages/IPython/core/debugger.py\u001b[0m(992)\u001b[0;36mset_trace\u001b[0;34m()\u001b[0m\n",
      "\u001b[0;32m    990 \u001b[0;31m\u001b[0;34m\u001b[0m\u001b[0m\n",
      "\u001b[0m\u001b[0;32m    991 \u001b[0;31m\u001b[0;34m\u001b[0m\u001b[0m\n",
      "\u001b[0m\u001b[0;32m--> 992 \u001b[0;31m\u001b[0;32mdef\u001b[0m \u001b[0mset_trace\u001b[0m\u001b[0;34m(\u001b[0m\u001b[0mframe\u001b[0m\u001b[0;34m=\u001b[0m\u001b[0;32mNone\u001b[0m\u001b[0;34m)\u001b[0m\u001b[0;34m:\u001b[0m\u001b[0;34m\u001b[0m\u001b[0;34m\u001b[0m\u001b[0m\n",
      "\u001b[0m\u001b[0;32m    993 \u001b[0;31m    \"\"\"\n",
      "\u001b[0m\u001b[0;32m    994 \u001b[0;31m    \u001b[0mStart\u001b[0m \u001b[0mdebugging\u001b[0m \u001b[0;32mfrom\u001b[0m\u001b[0;31m \u001b[0m\u001b[0;31m`\u001b[0m\u001b[0mframe\u001b[0m\u001b[0;31m`\u001b[0m\u001b[0;34m.\u001b[0m\u001b[0;34m\u001b[0m\u001b[0;34m\u001b[0m\u001b[0m\n",
      "\u001b[0m\n"
     ]
    },
    {
     "name": "stdin",
     "output_type": "stream",
     "text": [
      "ipdb>  c\n"
     ]
    },
    {
     "name": "stdout",
     "output_type": "stream",
     "text": [
      "> \u001b[0;32m/tmp/ipykernel_77/2494400813.py\u001b[0m(9)\u001b[0;36mfactorial\u001b[0;34m()\u001b[0m\n",
      "\u001b[0;32m      7 \u001b[0;31m    \u001b[0mpdb\u001b[0m\u001b[0;34m.\u001b[0m\u001b[0mset_trace\u001b[0m\u001b[0;34m(\u001b[0m\u001b[0;34m)\u001b[0m\u001b[0;34m\u001b[0m\u001b[0;34m\u001b[0m\u001b[0m\n",
      "\u001b[0m\u001b[0;32m      8 \u001b[0;31m\u001b[0;34m\u001b[0m\u001b[0m\n",
      "\u001b[0m\u001b[0;32m----> 9 \u001b[0;31m    \u001b[0;32mif\u001b[0m \u001b[0mn\u001b[0m \u001b[0;34m==\u001b[0m \u001b[0;36m0\u001b[0m\u001b[0;34m:\u001b[0m\u001b[0;34m\u001b[0m\u001b[0;34m\u001b[0m\u001b[0m\n",
      "\u001b[0m\u001b[0;32m     10 \u001b[0;31m        \u001b[0;32mreturn\u001b[0m \u001b[0;36m1\u001b[0m\u001b[0;34m\u001b[0m\u001b[0;34m\u001b[0m\u001b[0m\n",
      "\u001b[0m\u001b[0;32m     11 \u001b[0;31m    \u001b[0;32melse\u001b[0m\u001b[0;34m:\u001b[0m\u001b[0;34m\u001b[0m\u001b[0;34m\u001b[0m\u001b[0m\n",
      "\u001b[0m\n"
     ]
    },
    {
     "name": "stdin",
     "output_type": "stream",
     "text": [
      "ipdb>  q\n"
     ]
    }
   ],
   "source": [
    "# 20. Create a Python program that uses the debugger to trace a recursive function.\n",
    "\n",
    "import pdb\n",
    "\n",
    "def factorial(n):\n",
    "    \n",
    "    pdb.set_trace()\n",
    "    \n",
    "    if n == 0:\n",
    "        return 1\n",
    "    else:\n",
    "        return n * factorial(n - 1)\n",
    "\n",
    "if __name__ == \"__main__\":\n",
    "    number = 5\n",
    "    print(f\"Factorial of {number} is {factorial(number)}\")"
   ]
  },
  {
   "cell_type": "code",
   "execution_count": 2,
   "id": "10370c52-6962-48d5-bf55-5e1e60d4565f",
   "metadata": {},
   "outputs": [
    {
     "name": "stdout",
     "output_type": "stream",
     "text": [
      "Here I am handling the zero division error division by zero\n"
     ]
    }
   ],
   "source": [
    "# 21. Write a try-except block to handle a ZeroDivisionError.\n",
    "\n",
    "try:\n",
    "    10/0\n",
    "except ZeroDivisionError as e:\n",
    "    print(\"Here I am handling the zero division error\", e)"
   ]
  },
  {
   "cell_type": "markdown",
   "id": "a07d7a9c-ef5f-4533-9422-25754ed0b0da",
   "metadata": {},
   "source": [
    "# 22. How does the else block work with try-except?\n",
    "\n",
    "The else block work with try-except if you want to run a specific code only if an exception is not produced, use the try block to check if the try block was executed without an exception."
   ]
  },
  {
   "cell_type": "code",
   "execution_count": 3,
   "id": "074aaeb3-9a8a-4dec-a1b9-cb3363779217",
   "metadata": {},
   "outputs": [
    {
     "name": "stdout",
     "output_type": "stream",
     "text": [
      "My file not found [Errno 2] No such file or directory: 'example1.txt'\n"
     ]
    }
   ],
   "source": [
    "# 23. Implement a try-except-else block to open and read a file.\n",
    "\n",
    "try:\n",
    "    f = open(\"example1.txt\", \"r\")\n",
    "    f.read()\n",
    "except FileNotFoundError as e:\n",
    "    print(\"My file not found\", e)\n",
    "else:\n",
    "    print(\"This will be executed if try except block is executed without any exception.\")"
   ]
  },
  {
   "cell_type": "markdown",
   "id": "70371c7b-37e4-43a0-8963-751987e60ef9",
   "metadata": {},
   "source": [
    "# 24. What is the purpose of the finally block in exception handling.\n",
    "\n",
    "The finally block in Python is used in conjunction with the try block statement. The finally block is used to write code that must be executed regardless of whether the try block generates an error"
   ]
  },
  {
   "cell_type": "code",
   "execution_count": 4,
   "id": "53c22106-0df9-4977-a994-fee44a0268a2",
   "metadata": {},
   "outputs": [
    {
     "name": "stdout",
     "output_type": "stream",
     "text": [
      "The string can not be converted to integer invalid literal for int() with base 10: 'DataScience'\n",
      "This will be executed always.\n"
     ]
    }
   ],
   "source": [
    "# 25. Write a try-except-finally block to handle a ValueError.\n",
    "\n",
    "try:\n",
    "    int(\"DataScience\")\n",
    "except ValueError as e:\n",
    "    print(\"The string can not be converted to integer\", e)\n",
    "finally:\n",
    "    print(\"This will be executed always.\")"
   ]
  },
  {
   "cell_type": "code",
   "execution_count": 6,
   "id": "0b3a7f76-61bd-4e76-b58a-50f25e24e76c",
   "metadata": {},
   "outputs": [
    {
     "name": "stdin",
     "output_type": "stream",
     "text": [
      "Enter value of a: 15\n",
      "Enter value of b: 0\n"
     ]
    },
    {
     "name": "stdout",
     "output_type": "stream",
     "text": [
      "Please enter a valid value\n"
     ]
    }
   ],
   "source": [
    "# 26. How multiple except blocks work in Python.\n",
    "\n",
    "try:\n",
    "    a = int(input(\"Enter value of a:\"))\n",
    "    b = int(input(\"Enter value of b:\"))\n",
    "    c = a / b\n",
    "    print(\"The answer of a divide by b:\", c)\n",
    "except (ValueError, ZeroDivisionError) as e:\n",
    "    print(\"Please enter a valid value\")\n",
    "    "
   ]
  },
  {
   "cell_type": "markdown",
   "id": "de0c015b-7f2d-46de-8785-e1edad8d543f",
   "metadata": {},
   "source": [
    "# 27. What is a custom exception in Python?\n",
    "\n",
    "Custom Exception classes in Python is used to create our own custom exceptions. Custom exceptions might be handy when you want to raise certain issues in your code that are not handled by the built-in exception classes.  "
   ]
  },
  {
   "cell_type": "code",
   "execution_count": 10,
   "id": "ce8d1c9e-75d1-43e8-bd74-c67cead97c4a",
   "metadata": {},
   "outputs": [
    {
     "name": "stdin",
     "output_type": "stream",
     "text": [
      "Enter number:  20\n"
     ]
    }
   ],
   "source": [
    "# 28. Create a custom exception class with a message.\n",
    "\n",
    "class NumNotInRangeError(Exception):\n",
    "    def __init__(self, num):\n",
    "        message = \"Number not present in (10, 30) range values\"\n",
    "        self.num = num\n",
    "        self.message = message\n",
    "        super().__init__(self.message)\n",
    "\n",
    "try:\n",
    "    num = int(input(\"Enter number: \"))\n",
    "    if not 10 < num < 30:\n",
    "        raise NumNotInRangeError(num)\n",
    "except NumNotInRangeError as e:\n",
    "    print(e)"
   ]
  },
  {
   "cell_type": "code",
   "execution_count": 15,
   "id": "372a2a1e-8309-48f8-acbe-b60b21b12d71",
   "metadata": {},
   "outputs": [
    {
     "name": "stdin",
     "output_type": "stream",
     "text": [
      "Provide your salary 500000\n"
     ]
    },
    {
     "name": "stdout",
     "output_type": "stream",
     "text": [
      "salary is valid\n"
     ]
    }
   ],
   "source": [
    "# 29. Write a code to raise a custom exception in Python.\n",
    "\n",
    "class ValidateSalary(Exception):\n",
    "    def __init__(self, msg):\n",
    "        self.msg = msg\n",
    "        \n",
    "def validate_salary(salary):\n",
    "        if salary < 0:\n",
    "            raise ValidateSalary(\"Salary can not be negative\")\n",
    "        elif salary > 2000000000000:\n",
    "            raise ValidateSalary(\"This high much salary is not possible\")\n",
    "        else:\n",
    "            print(\"salary is valid\")\n",
    "        \n",
    "try:\n",
    "    salary = int(input(\"Provide your salary\"))\n",
    "    validate_salary(salary)\n",
    "except ValidateSalary as e:\n",
    "    print(e)\n"
   ]
  },
  {
   "cell_type": "code",
   "execution_count": 18,
   "id": "0c944ead-8ce7-42fd-95eb-b6e5b20ed04d",
   "metadata": {},
   "outputs": [
    {
     "name": "stdout",
     "output_type": "stream",
     "text": [
      "Error: Value cannot be negative\n"
     ]
    }
   ],
   "source": [
    "# 30. Write a function that raises a custom exception when a value is negative.\n",
    "\n",
    "class NegativeValueError(Exception):\n",
    "\n",
    "    def __init__(self, value, message=\"Value cannot be negative\"):\n",
    "        self.value = value\n",
    "        self.message = message\n",
    "        super().__init__(self.message)\n",
    "\n",
    "def check_value(value):\n",
    "    if value < 0:\n",
    "        raise NegativeValueError(value)\n",
    "    return value\n",
    "\n",
    "try:\n",
    "    check_value(-26)\n",
    "except NegativeValueError as e:\n",
    "    print(f\"Error: {e}\")"
   ]
  },
  {
   "cell_type": "markdown",
   "id": "c193ec0a-9c61-47c9-87d9-11989b6b7c2d",
   "metadata": {},
   "source": [
    "# 31. What is the role of try, except, else, and finally in handling exceptions.\n",
    "\n",
    "When an exception occurs, Python stops the program and generates an exception message. Handling exceptions is strongly advised. To handle exceptions, we must utilise the try and except blocks.\n",
    "\n",
    "else- Use the else statement in conjuction with if you want to run a specific code only if an exception is not produced, use the try block to check if the try block was executed without an exception.\n",
    "\n",
    "finally- The finally block in Python is used in conjuction with the try block statement. The finally block is used to write code that must be executed regardless of wheather the try block generates an error. "
   ]
  },
  {
   "cell_type": "markdown",
   "id": "6fd49bbc-e115-42b7-b8c0-93d418550758",
   "metadata": {},
   "source": [
    "# 32. How can custom exceptions improve code readability and maintainability?\n",
    "\n",
    "Custom exceptions can significantly enhance the readability and maintainability of your code by providing clear, specific, and meaningful error messages that precisely describe what went wrong.\n",
    "Custom exceptions make it easier to catch and handle specific errors, allowing for more granular and precise error handling. This makes debugging simpler since you can catch specific exceptions and deal with them appropriately.\n",
    "By creating custom exceptions, you make your code more readable by providing meaningful names and descriptions for errors, which improves clarity. Custom exceptions also enhance maintainability by allowing precise error handling and improving code organization. This results in code that is easier to understand, debug, and extend, ultimately leading to a more robust and reliable application."
   ]
  },
  {
   "cell_type": "markdown",
   "id": "d756074a-46c5-4741-bcf0-87b913c0b9d2",
   "metadata": {},
   "source": [
    "# 33. What is multithreading?\n",
    "\n",
    "Multithreading involves the concurrent execution of multiple threads within a single process. Each thread represents an independent flow of execution, capable of performing tasks simultaneously with our threads. Threads within the same process share the same data space and system resources, allowing them to communicate and coordinate effectively."
   ]
  },
  {
   "cell_type": "code",
   "execution_count": 11,
   "id": "cf3020ee-5a89-4bd4-a95b-66b712bad1fb",
   "metadata": {},
   "outputs": [
    {
     "name": "stdout",
     "output_type": "stream",
     "text": [
      "do something\n",
      "sleep for 1 sec\n",
      "do something\n",
      "sleep for 1 sec\n",
      "The program finished in 0.0 seconds.\n",
      "done with sleeping\n",
      "done with sleeping\n"
     ]
    }
   ],
   "source": [
    "# 34. Create a thread in Python.\n",
    "\n",
    "import time\n",
    "import threading\n",
    "start = time.perf_counter()\n",
    "\n",
    "def test_func():\n",
    "    print(\"do something\")\n",
    "    print(\"sleep for 1 sec\")\n",
    "    time.sleep(1)\n",
    "    print(\"done with sleeping\")\n",
    "\n",
    "t1 = threading.Thread(target = test_func)\n",
    "t2 = threading.Thread(target = test_func)\n",
    "\n",
    "t1.start() \n",
    "t2.start()\n",
    "\n",
    "end = time.perf_counter()\n",
    "\n",
    "print(f\"The program finished in {round(end-start, 2)} seconds.\")"
   ]
  },
  {
   "cell_type": "markdown",
   "id": "e2f9f14c-7ae1-4035-9eb2-1673a5d8569c",
   "metadata": {},
   "source": [
    "# 35. What is the Global Interpreter Lock (GIL) in Python?\n",
    "\n",
    "The Global Interpreter Lock (GIL) in Python ensures that at a one point of time in a python process only one thread will run at a time."
   ]
  },
  {
   "cell_type": "code",
   "execution_count": 13,
   "id": "17336ffb-5147-444a-9225-67fa75800767",
   "metadata": {},
   "outputs": [
    {
     "name": "stdout",
     "output_type": "stream",
     "text": [
      "do something\n",
      "sleep for 1 sec\n",
      "do something\n",
      "sleep for 1 sec\n",
      "do something\n",
      "sleep for 1 sec\n",
      "do something\n",
      "sleep for 1 sec\n",
      "do something\n",
      "sleep for 1 sec\n",
      "do something\n",
      "sleep for 1 sec\n",
      "do something\n",
      "sleep for 1 sec\n",
      "do something\n",
      "sleep for 1 sec\n",
      "do something\n",
      "sleep for 1 sec\n",
      "do something\n",
      "sleep for 1 sec\n",
      "done with sleeping\n",
      "done with sleeping\n",
      "done with sleeping\n",
      "done with sleeping\n",
      "done with sleeping\n",
      "done with sleeping\n",
      "done with sleeping\n",
      "done with sleeping\n",
      "done with sleeping\n",
      "done with sleeping\n",
      "The program finished in 1.0 seconds.\n"
     ]
    }
   ],
   "source": [
    "# 36. Implement a simple multithreading example in Python.\n",
    "\n",
    "import time\n",
    "import threading\n",
    "start = time.perf_counter()\n",
    "\n",
    "def test_func():\n",
    "    print(\"do something\")\n",
    "    print(\"sleep for 1 sec\")\n",
    "    time.sleep(1)\n",
    "    print(\"done with sleeping\")\n",
    "\n",
    "threads = []\n",
    "for i in range(10):\n",
    "    t = threading.Thread(target = test_func)\n",
    "    t.start()\n",
    "    threads.append(t)\n",
    "\n",
    "for thread in threads:\n",
    "    thread.join()\n",
    "    \n",
    "\n",
    "\n",
    "end = time.perf_counter()\n",
    "\n",
    "\n",
    "print(f\"The program finished in {round(end-start, 2)} seconds.\")"
   ]
  },
  {
   "cell_type": "markdown",
   "id": "2d1e2c97-809e-4821-ac24-88b15e7d050c",
   "metadata": {},
   "source": [
    "# 37. What is the purpose of the 'join()' method in threading.\n",
    "\n",
    "The join() method in threading is used to ensure that a thread has completed its execution before the program continues. When you call join() on a thread, the calling thread (typically the main thread) will be blocked until the thread on which join() was called has finished executing."
   ]
  },
  {
   "cell_type": "code",
   "execution_count": 12,
   "id": "a646b635-c64e-4619-8297-39a5364b9100",
   "metadata": {},
   "outputs": [
    {
     "name": "stdout",
     "output_type": "stream",
     "text": [
      "do something\n",
      "sleep for 5 sec\n",
      "do something\n",
      "sleep for 5 sec\n",
      "done with sleeping\n",
      "done with sleeping\n",
      "The program finished in 5.01 seconds.\n"
     ]
    }
   ],
   "source": [
    "import time\n",
    "import threading\n",
    "start = time.perf_counter()\n",
    "\n",
    "def test_func():\n",
    "    print(\"do something\")\n",
    "    print(\"sleep for 5 sec\")\n",
    "    time.sleep(5)\n",
    "    print(\"done with sleeping\")\n",
    "\n",
    "t1 = threading.Thread(target = test_func)\n",
    "t2 = threading.Thread(target = test_func)\n",
    "\n",
    "t1.start() #to start the thread\n",
    "t2.start()\n",
    "\n",
    "t1.join() #in order to first execute the threads and then the execution of main program\n",
    "t2.join()\n",
    "\n",
    "\n",
    "end = time.perf_counter()\n",
    "\n",
    "\n",
    "print(f\"The program finished in {round(end-start, 2)} seconds.\")"
   ]
  },
  {
   "cell_type": "markdown",
   "id": "d252eec5-a7c6-4c9b-910d-bcdb32a6e572",
   "metadata": {},
   "source": [
    "# 38. Describe a scenario where multithreading could be beneficial in Python.\n",
    "\n",
    "Multithreading can be highly beneficial in scenarios where a program needs to perform multiple I/O-bound tasks concurrently.\n",
    "I/O bound task = perfomance can be improved using multithreading, reading writing files, network communication, data base querier"
   ]
  },
  {
   "cell_type": "code",
   "execution_count": 14,
   "id": "1ad07779-b341-4e12-beb6-458c6e46e264",
   "metadata": {},
   "outputs": [
    {
     "name": "stdout",
     "output_type": "stream",
     "text": [
      "The program finished in 0.41 seconds.\n"
     ]
    }
   ],
   "source": [
    "import time\n",
    "import threading\n",
    "start = time.perf_counter()\n",
    "\n",
    "url_list = [\n",
    "    'https://raw.githubusercontent.com/dscape/spell/master/test/resources/big.txt',\n",
    "    'https://raw.githubusercontent.com/first20hours/google-10000-english/master/google-10000-english-no-swears.txt',\n",
    "    'https://raw.githubusercontent.com/itsfoss/text-files/master/sherlock.txt' ,\n",
    "    'https://raw.githubusercontent.com/itsfoss/text-files/master/sample_log_file.txt',\n",
    "]\n",
    "\n",
    "\n",
    "data_list = ['data1.txt', 'data2.txt', 'data3.txt', 'data4.txt']\n",
    "    \n",
    "import urllib.request\n",
    "def file_download(url, filename):\n",
    "    urllib.request.urlretrieve(url, filename)\n",
    "\n",
    "threads=[]\n",
    "for i in range(len(url_list)):\n",
    "    t = threading.Thread(target = file_download, args = (url_list[i], data_list[i]))\n",
    "    t.start()\n",
    "    threads.append(t)\n",
    "    \n",
    "for thread in threads:\n",
    "    thread.join()\n",
    "    \n",
    "\n",
    "end = time.perf_counter()\n",
    "\n",
    "\n",
    "print(f\"The program finished in {round(end-start, 2)} seconds.\")"
   ]
  },
  {
   "cell_type": "markdown",
   "id": "033db7e9-80d0-4129-b1df-ee759f89c6e9",
   "metadata": {},
   "source": [
    "# 39. What is multiprocessing in Python?\n",
    "\n",
    "Multiprocessing is a programming and execution model that involves the concurrent execution of multiple processes. A process is an independent program that runs in its own memory space and has its own resources.\n",
    "In multiprocessing, multiple processes run concurrently, each with its own set of instructions and data. These processes can communicate with each other through inter-process communication(IPC) mechanisms. "
   ]
  },
  {
   "cell_type": "markdown",
   "id": "87c9bc96-649b-42d1-8199-7e493c553ec5",
   "metadata": {},
   "source": [
    "# 40. How is multiprocessing different from multithreading in Python?\n",
    "\n",
    "1. Independence:\n",
    "\n",
    "    In MULTIPROCESSING, each process runs independently with its own memory space. Processes do not share memory by default, and communication between them requires explicit mechanisms such as inter-process communication(IPC).\n",
    "    \n",
    "    In MULTITHREADING, multiple threads share the same memory space within a single process. Threads can communicate more directly by accessing shared data.\n",
    "    \n",
    "2. Communication:\n",
    "\n",
    "    In MULTIPROCESSING, communication between processes is typically achieved through IPC mechanisms like message passing, shared memory, or file-based communication.\n",
    "    \n",
    "    In MULTITHREADING, threads can communicate more easily by sharing data directly, as they have access to the same memory space.\n",
    "    \n",
    "3. Fault Isolation:\n",
    "\n",
    "    In MULTIPROCESSING, processes are more isolated, providing better fault isolation. if one processes croshes, it does not necessarily affect others.\n",
    "    \n",
    "    In MULTITHREADING, threads within the same process share the same memory space, making them more susceptible to issues such as data corruption or unintended interactions.\n",
    "\n",
    "4. Resource Utilization:\n",
    "\n",
    "    MULTIPROCESSING, can take advantages of multiple CPU cores, as each process can run on a seperate core. \n",
    "    \n",
    "    MULTITHREADING, suitable for I/O bound tasks or tasks where parallelism can be achieved within a single process.\n",
    "    \n",
    "5. Concurrency:\n",
    "\n",
    "    MULTIPROCESSING, involves concurrent execution of multiple processes, each with its own program counter and resources.\n",
    "    \n",
    "    MULTITHREADING, involves concurrent execution of multiple threads within the same process, sharing the same program counter. "
   ]
  },
  {
   "cell_type": "code",
   "execution_count": 15,
   "id": "0547338e-70b9-4187-8353-a8b1d45f7a7f",
   "metadata": {},
   "outputs": [
    {
     "name": "stdout",
     "output_type": "stream",
     "text": [
      "do something\n",
      "sleep for 1 sec\n",
      "do something\n",
      "sleep for 1 secdo something\n",
      "\n",
      "sleep for 1 secdo something\n",
      "\n",
      "sleep for 1 sec\n",
      "do something\n",
      "do somethingsleep for 1 sec\n",
      "\n",
      "sleep for 1 sec\n",
      "do something\n",
      "sleep for 1 sec\n",
      "do something\n",
      "sleep for 1 secdo something\n",
      "\n",
      "sleep for 1 sec\n",
      "do something\n",
      "sleep for 1 sec\n",
      "done with sleeping\n",
      "done with sleeping\n",
      "done with sleeping\n",
      "done with sleeping\n",
      "done with sleeping\n",
      "done with sleeping\n",
      "done with sleeping\n",
      "done with sleeping\n",
      "done with sleeping\n",
      "done with sleeping\n",
      "The program finished in 1.08 seconds.\n"
     ]
    }
   ],
   "source": [
    "# 41. Create a process using the multiprocessing module in Python.\n",
    "\n",
    "import multiprocessing\n",
    "\n",
    "import time\n",
    "start = time.perf_counter()\n",
    "\n",
    "def test_func():\n",
    "    print(\"do something\")\n",
    "    print(\"sleep for 1 sec\")\n",
    "    time.sleep(1)\n",
    "    print(\"done with sleeping\")\n",
    "\n",
    "processes = []\n",
    "for i in range(10):\n",
    "    p=multiprocessing.Process(target = test_func)\n",
    "    p.start()\n",
    "    processes.append(p)\n",
    "for process in processes:\n",
    "    process.join()\n",
    "\n",
    "end = time.perf_counter()\n",
    "\n",
    "\n",
    "print(f\"The program finished in {round(end-start, 2)} seconds.\")"
   ]
  },
  {
   "cell_type": "code",
   "execution_count": 16,
   "id": "d64e33a1-0e60-4250-a189-4af167e0f972",
   "metadata": {},
   "outputs": [
    {
     "name": "stdout",
     "output_type": "stream",
     "text": [
      "The square of 2 is 4The square of 13 is 169The square of 21 is 441The square of 35 is 1225The square of 44 is 1936\n",
      "\n",
      "\n",
      "\n",
      "\n",
      "The program finished in 0.38 seconds.\n"
     ]
    }
   ],
   "source": [
    "# 42. Explain the concept of Pool in the multiprocessing module.\n",
    "\n",
    "start = time.perf_counter()\n",
    "def square(no):\n",
    "    result = no*no\n",
    "    print(f\"The square of {no} is {result}\")\n",
    "    \n",
    "numbers = [2, 13, 21, 35, 44]\n",
    "\n",
    "\n",
    "with multiprocessing.Pool() as pool:\n",
    "    pool.map(square, numbers)\n",
    "    \n",
    "    \n",
    "end = time.perf_counter()\n",
    "\n",
    "\n",
    "print(f\"The program finished in {round(end-start, 2)} seconds.\")"
   ]
  },
  {
   "cell_type": "markdown",
   "id": "e58b3181-453a-429a-bb3e-784b2508fc9a",
   "metadata": {},
   "source": [
    "# 43. Explain inter-process communication in multiprocessing.\n",
    "\n",
    "\n",
    "Inter-process communication (IPC) in multiprocessing is a critical concept that enables processes to communicate and synchronize their actions while executing concurrently. In the context of multiprocessing, processes are isolated from each other, meaning they have separate memory spaces. Therefore, IPC mechanisms are required to share data, send messages, or synchronize operations between these processes."
   ]
  },
  {
   "cell_type": "code",
   "execution_count": null,
   "id": "137b817c-c6bb-4bd7-87c6-d0a48afcdbff",
   "metadata": {},
   "outputs": [],
   "source": []
  }
 ],
 "metadata": {
  "kernelspec": {
   "display_name": "Python 3 (ipykernel)",
   "language": "python",
   "name": "python3"
  },
  "language_info": {
   "codemirror_mode": {
    "name": "ipython",
    "version": 3
   },
   "file_extension": ".py",
   "mimetype": "text/x-python",
   "name": "python",
   "nbconvert_exporter": "python",
   "pygments_lexer": "ipython3",
   "version": "3.10.8"
  }
 },
 "nbformat": 4,
 "nbformat_minor": 5
}
